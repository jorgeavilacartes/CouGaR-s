{
 "cells": [
  {
   "cell_type": "markdown",
   "metadata": {},
   "source": [
    "# Exploratory Data Analysis\n",
    "    - [x] Remove inconsistent data (samples with multiple labels)\n",
    "    - [x] Plot distribution of (consistent) labels"
   ]
  },
  {
   "cell_type": "code",
   "execution_count": 1,
   "metadata": {},
   "outputs": [],
   "source": [
    "import pandas as pd\n",
    "from collections import defaultdict\n",
    "from pathlib import Path"
   ]
  },
  {
   "cell_type": "code",
   "execution_count": 2,
   "metadata": {},
   "outputs": [
    {
     "name": "stdout",
     "output_type": "stream",
     "text": [
      "Removed None data: 212\n"
     ]
    }
   ],
   "source": [
    "data = pd.read_csv(\"/home/jorge/samples-sars-cov2/srrgis.clade.csv\")\n",
    "data.replace(to_replace=\"None\",value=None, inplace=True)\n",
    "init_data=data.shape[0]\n",
    "data.dropna(subset=[\"Clade\",\"PANGO_LINEAGE\"], inplace=True)\n",
    "print(f\"Removed None data: {init_data - data.shape[0]}\")"
   ]
  },
  {
   "cell_type": "markdown",
   "metadata": {},
   "source": [
    "### Count unique SRR_ID"
   ]
  },
  {
   "cell_type": "code",
   "execution_count": 3,
   "metadata": {},
   "outputs": [],
   "source": [
    "\n",
    "unique_srrid = data.drop_duplicates(subset=[\"SRR_ID\"]).shape[0]\n",
    "unique_srrid_clade = data.drop_duplicates(subset=[\"SRR_ID\",\"Clade\"]).shape[0]\n",
    "unique_srrid_pango = data.drop_duplicates(subset=[\"SRR_ID\",\"PANGO_LINEAGE\"]).shape[0]"
   ]
  },
  {
   "cell_type": "code",
   "execution_count": 4,
   "metadata": {},
   "outputs": [
    {
     "name": "stdout",
     "output_type": "stream",
     "text": [
      "Unique SRR_ID: 114599\n",
      "Unique SRR_ID+CLADE: 119934\n",
      "Unique SRR_ID+PANGO: 121530\n"
     ]
    }
   ],
   "source": [
    "print(f\"Unique SRR_ID: {unique_srrid}\")\n",
    "print(f\"Unique SRR_ID+CLADE: {unique_srrid_clade}\")\n",
    "print(f\"Unique SRR_ID+PANGO: {unique_srrid_pango}\")"
   ]
  },
  {
   "cell_type": "code",
   "execution_count": 5,
   "metadata": {},
   "outputs": [],
   "source": [
    "# Find all GISAID clades assign to each SRR_ID\n",
    "gisaid = defaultdict(list)\n",
    "list_srr = data[\"SRR_ID\"].tolist()\n",
    "list_clade = data[\"Clade\"].tolist()\n",
    "for srr, clade in zip(list_srr, list_clade): \n",
    "    gisaid[srr].append(clade)\n",
    "\n",
    "gisaid = {srr: list(set(clade)) for srr,clade in gisaid.items()}"
   ]
  },
  {
   "cell_type": "code",
   "execution_count": 6,
   "metadata": {},
   "outputs": [
    {
     "name": "stdout",
     "output_type": "stream",
     "text": [
      "1984 inconsistent SRR, multiple GISAID labels\n"
     ]
    }
   ],
   "source": [
    "# GISAID inconsistent data\n",
    "gisaid_dup = dict(filter(lambda d: len(d[1])>1 , gisaid.items()))\n",
    "print(f\"{len(gisaid_dup)} inconsistent SRR, multiple GISAID labels\")"
   ]
  },
  {
   "cell_type": "code",
   "execution_count": 7,
   "metadata": {},
   "outputs": [],
   "source": [
    "# Find all PANGO lineages assign to each SRR_ID\n",
    "pango = defaultdict(list)\n",
    "list_srr = data[\"SRR_ID\"].tolist()\n",
    "list_lineage = data[\"Clade\"].tolist()\n",
    "for srr, lineage in zip(list_srr, list_lineage): \n",
    "    pango[srr].append(lineage)\n",
    "\n",
    "pango = {srr: list(set(lineage)) for srr,lineage in pango.items()}"
   ]
  },
  {
   "cell_type": "code",
   "execution_count": 8,
   "metadata": {},
   "outputs": [
    {
     "name": "stdout",
     "output_type": "stream",
     "text": [
      "1984 inconsistent SRR, multiple PANGO labels\n"
     ]
    }
   ],
   "source": [
    "# PANGO inconsistent\n",
    "pango_dup = dict(filter(lambda d: len(d[1])>1 , pango.items()))\n",
    "print(f\"{len(pango_dup)} inconsistent SRR, multiple PANGO labels\")"
   ]
  },
  {
   "cell_type": "code",
   "execution_count": 9,
   "metadata": {},
   "outputs": [
    {
     "data": {
      "text/plain": [
       "True"
      ]
     },
     "execution_count": 9,
     "metadata": {},
     "output_type": "execute_result"
    }
   ],
   "source": [
    "set(gisaid_dup.keys()) == set(pango_dup.keys()) "
   ]
  },
  {
   "cell_type": "markdown",
   "metadata": {},
   "source": [
    "## Clean Data"
   ]
  },
  {
   "cell_type": "code",
   "execution_count": 10,
   "metadata": {},
   "outputs": [],
   "source": [
    "cols = ['SRR_ID','SEQUENCE_NAME','GISAID_ID','COLLECTION_DATE','PANGO_LINEAGE','Clade']"
   ]
  },
  {
   "cell_type": "code",
   "execution_count": 11,
   "metadata": {},
   "outputs": [
    {
     "data": {
      "text/plain": [
       "Index(['Unnamed: 0', 'Run', 'SEQUENCE_NAME', 'GISAID_ID', 'SRR_ID',\n",
       "       'COLLECTION_DATE', 'PANGO_LINEAGE', 'GISAI_ID', 'Clade'],\n",
       "      dtype='object')"
      ]
     },
     "execution_count": 11,
     "metadata": {},
     "output_type": "execute_result"
    }
   ],
   "source": [
    "data.columns"
   ]
  },
  {
   "cell_type": "code",
   "execution_count": 12,
   "metadata": {},
   "outputs": [
    {
     "name": "stdout",
     "output_type": "stream",
     "text": [
      "Inconsistent data: rows to remove 9526\n"
     ]
    }
   ],
   "source": [
    "idx_inconsistent = data.query(f\"SRR_ID in {tuple(gisaid_dup.keys())}\").index\n",
    "print(f\"Inconsistent data: rows to remove {len(idx_inconsistent)}\")"
   ]
  },
  {
   "cell_type": "code",
   "execution_count": 13,
   "metadata": {},
   "outputs": [],
   "source": [
    "data.drop(labels=idx_inconsistent, axis='index', inplace=True)"
   ]
  },
  {
   "cell_type": "code",
   "execution_count": 14,
   "metadata": {},
   "outputs": [
    {
     "data": {
      "text/plain": [
       "(112616, 9)"
      ]
     },
     "execution_count": 14,
     "metadata": {},
     "output_type": "execute_result"
    }
   ],
   "source": [
    "data.shape"
   ]
  },
  {
   "cell_type": "code",
   "execution_count": 15,
   "metadata": {},
   "outputs": [],
   "source": [
    "\n",
    "data[cols].to_csv(\"data/clean_labels.tsv\",sep=\"\\t\")"
   ]
  },
  {
   "cell_type": "markdown",
   "metadata": {},
   "source": [
    "### Distribution of labels\n",
    "___\n",
    "#### GISAID Clades"
   ]
  },
  {
   "cell_type": "code",
   "execution_count": 16,
   "metadata": {},
   "outputs": [
    {
     "name": "stdout",
     "output_type": "stream",
     "text": [
      "Number of GISAID clades: 9\n"
     ]
    },
    {
     "data": {
      "text/plain": [
       "Clade\n",
       "G       3340\n",
       "GH      7908\n",
       "GR      5593\n",
       "GRY    78480\n",
       "GV     16755\n",
       "L         93\n",
       "O         92\n",
       "S        251\n",
       "V        104\n",
       "dtype: int64"
      ]
     },
     "execution_count": 16,
     "metadata": {},
     "output_type": "execute_result"
    }
   ],
   "source": [
    "gisaid_dist = data.groupby(\"Clade\").size()\n",
    "print(f\"Number of GISAID clades: {len(gisaid_dist)}\")\n",
    "gisaid_dist"
   ]
  },
  {
   "cell_type": "code",
   "execution_count": 17,
   "metadata": {},
   "outputs": [
    {
     "data": {
      "text/plain": [
       "112076"
      ]
     },
     "execution_count": 17,
     "metadata": {},
     "output_type": "execute_result"
    }
   ],
   "source": [
    "gisaid_dist[:5].sum()"
   ]
  },
  {
   "cell_type": "markdown",
   "metadata": {},
   "source": [
    "#### Pango Lineages"
   ]
  },
  {
   "cell_type": "code",
   "execution_count": 18,
   "metadata": {},
   "outputs": [],
   "source": [
    "pango_dist = data.groupby(\"PANGO_LINEAGE\").size()"
   ]
  },
  {
   "cell_type": "code",
   "execution_count": 19,
   "metadata": {},
   "outputs": [
    {
     "name": "stdout",
     "output_type": "stream",
     "text": [
      "Number of Pango Lineages: 568\n"
     ]
    },
    {
     "data": {
      "text/plain": [
       "PANGO_LINEAGE\n",
       "A         43\n",
       "A.1      102\n",
       "A.19       1\n",
       "A.2        1\n",
       "A.2.3      8\n",
       "        ... \n",
       "V.1       14\n",
       "V.2        9\n",
       "W.3       21\n",
       "W.4      130\n",
       "Z.1       67\n",
       "Length: 568, dtype: int64"
      ]
     },
     "execution_count": 19,
     "metadata": {},
     "output_type": "execute_result"
    }
   ],
   "source": [
    "print(f\"Number of Pango Lineages: {len(pango_dist)}\")\n",
    "pango_dist"
   ]
  },
  {
   "cell_type": "code",
   "execution_count": 20,
   "metadata": {},
   "outputs": [
    {
     "data": {
      "text/plain": [
       "count      568.000000\n",
       "mean       198.267606\n",
       "std       3410.767758\n",
       "min          1.000000\n",
       "25%          2.000000\n",
       "50%          5.500000\n",
       "75%         19.250000\n",
       "max      80700.000000\n",
       "dtype: float64"
      ]
     },
     "execution_count": 20,
     "metadata": {},
     "output_type": "execute_result"
    }
   ],
   "source": [
    "pango_dist.describe()"
   ]
  },
  {
   "cell_type": "code",
   "execution_count": 21,
   "metadata": {},
   "outputs": [
    {
     "data": {
      "text/plain": [
       "<AxesSubplot:xlabel='PANGO_LINEAGE'>"
      ]
     },
     "execution_count": 21,
     "metadata": {},
     "output_type": "execute_result"
    },
    {
     "data": {
      "image/png": "[encoded data removed]",
      "text/plain": [
       "<Figure size 432x288 with 1 Axes>"
      ]
     },
     "metadata": {
      "needs_background": "light"
     },
     "output_type": "display_data"
    }
   ],
   "source": [
    "pango_dist.plot()"
   ]
  },
  {
   "cell_type": "code",
   "execution_count": 22,
   "metadata": {},
   "outputs": [
    {
     "data": {
      "text/plain": [
       "0.8495418057824821"
      ]
     },
     "execution_count": 22,
     "metadata": {},
     "output_type": "execute_result"
    }
   ],
   "source": [
    "pango_dist[pango_dist > 1000].sum()/pango_dist.sum()"
   ]
  },
  {
   "cell_type": "code",
   "execution_count": 23,
   "metadata": {},
   "outputs": [
    {
     "data": {
      "text/plain": [
       "(112616, 9)"
      ]
     },
     "execution_count": 23,
     "metadata": {},
     "output_type": "execute_result"
    }
   ],
   "source": [
    "data.shape"
   ]
  },
  {
   "cell_type": "code",
   "execution_count": 24,
   "metadata": {},
   "outputs": [
    {
     "data": {
      "text/plain": [
       "PANGO_LINEAGE\n",
       "B.1           1318\n",
       "B.1.1.7      80700\n",
       "B.1.177       9455\n",
       "B.1.177.7     1195\n",
       "B.1.2         3004\n",
       "dtype: int64"
      ]
     },
     "execution_count": 24,
     "metadata": {},
     "output_type": "execute_result"
    }
   ],
   "source": [
    "pango_dist[pango_dist > 1000]"
   ]
  },
  {
   "cell_type": "code",
   "execution_count": 25,
   "metadata": {},
   "outputs": [
    {
     "data": {
      "text/plain": [
       "568"
      ]
     },
     "execution_count": 25,
     "metadata": {},
     "output_type": "execute_result"
    }
   ],
   "source": [
    "len(pango_dist)"
   ]
  },
  {
   "cell_type": "code",
   "execution_count": null,
   "metadata": {},
   "outputs": [],
   "source": []
  }
 ],
 "metadata": {
  "kernelspec": {
   "display_name": "Python 3.10.4 ('env': venv)",
   "language": "python",
   "name": "python3"
  },
  "language_info": {
   "codemirror_mode": {
    "name": "ipython",
    "version": 3
   },
   "file_extension": ".py",
   "mimetype": "text/x-python",
   "name": "python",
   "nbconvert_exporter": "python",
   "pygments_lexer": "ipython3",
   "version": "3.10.5"
  },
  "orig_nbformat": 4,
  "vscode": {
   "interpreter": {
    "hash": "44f61eb15fdc63ca958a917cfdadb09a64373b62afb86df35ae476b78e4c9984"
   }
  }
 },
 "nbformat": 4,
 "nbformat_minor": 2
}
